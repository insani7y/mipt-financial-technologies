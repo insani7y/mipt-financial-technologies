{
 "cells": [
  {
   "cell_type": "code",
   "execution_count": null,
   "metadata": {},
   "outputs": [],
   "source": [
    "\"\"\"\n",
    "1. Во время сессии (партии) в D&D для очередной проверки игроку понадобилось\n",
    "\n",
    "бросить четыре дайса d6 (это игральные кости с шестью гранями, занумерованны-\n",
    "ми числами от 1 до 6). По правилам для успешного прохождения данной проверки\n",
    "\n",
    "игроку нужно набрать сумму очков на дайсах, равную 22 или больше. В результа-\n",
    "те броска игрок прошел проверку. Протестируйте на уровне значимости α = 0.01\n",
    "\n",
    "гипотезу H0 = ’дайсы честные’ (то есть, все грани выпадают с одинаковыми веро-\n",
    "ятностями) против гипотезы H1 = ’дайсы нечестные и завышают результат’ (то есть,\n",
    "\n",
    "грани с большим числом очков выпадают чаще). В качесте ответа приведите p-value в\n",
    "виде десятичной дроби, а также результат теста: отвергать гипотезу H0 или нет. Дать\n",
    "подробное решение.\n",
    "\"\"\""
   ]
  },
  {
   "cell_type": "code",
   "execution_count": 166,
   "metadata": {},
   "outputs": [],
   "source": [
    "import collections\n",
    "import itertools\n",
    "import typing\n",
    "\n",
    "import scipy.stats as stats\n",
    "\n",
    "\n",
    "# Generic solution for any amount of dices with any values :)\n",
    "TOTAL_DICES: typing.Final = 4\n",
    "MIN_DICE_VALUE: typing.Final = 1\n",
    "MAX_DICE_VALUE: typing.Final = 6\n",
    "MIN_DICES_SUM: typing.Final = TOTAL_DICES * MIN_DICE_VALUE\n",
    "MAX_DICES_SUM: typing.Final = TOTAL_DICES * MAX_DICE_VALUE\n",
    "SIGNIFICANCE_LEVEL: typing.Final = .01\n",
    "\n",
    "def is_dices_fair(dice_sum: int) -> None:\n",
    "    assert TOTAL_DICES > 0\n",
    "    assert MIN_DICE_VALUE < MAX_DICE_VALUE\n",
    "\n",
    "    if not (MIN_DICES_SUM <= dice_sum <= MAX_DICES_SUM):\n",
    "        raise ValueError(\n",
    "            f\"{TOTAL_DICES} dices sum variates like: \"\n",
    "            f\"{MIN_DICES_SUM} <= sum <= {MAX_DICES_SUM}\"\n",
    "        )\n",
    "    \n",
    "    # Idk, but it seems like there is MAX_DICES_SUM - MIN_DICES_SUM + 1 possible ways to sum TOTAL_DICES dice's values\n",
    "    # Hence, we need MAX_DICES_SUM - MIN_DICES_SUM (a.k.a. degrees of freedom) buckets\n",
    "    # Here they are, from left to right...\n",
    "\n",
    "    # Get all possible combinations with TOTAL_DICES\n",
    "    all_possible_dices_sum = list(itertools.product(\n",
    "        range(MIN_DICE_VALUE, MAX_DICE_VALUE + 1), \n",
    "        repeat=TOTAL_DICES\n",
    "    ))\n",
    "\n",
    "    # Now we want to count, how much times each sum has appeared\n",
    "    combination_sum_counter: typing.Final = collections.Counter(\n",
    "        list(map(sum, all_possible_dices_sum))\n",
    "    )\n",
    "\n",
    "    # Now we count probability of each sum to appear\n",
    "    # Don't worry: values, keys and items collecitons.Counter methods returning sorted values\n",
    "    sum_probabilities: typing.Final = [\n",
    "        times_appeared / len(all_possible_dices_sum) for \n",
    "        times_appeared in combination_sum_counter.values()\n",
    "    ]\n",
    "    print(sum_probabilities)\n",
    "    # Now everything is simple, we make contingency table\n",
    "    # We have only 1 position for dice sum to appear and that position is dice_sum - 1\n",
    "    contingency_table: typing.Final = [\n",
    "        [int(dice_sum - TOTAL_DICES == current_index), sum_probability] \n",
    "        for current_index, sum_probability in enumerate(sum_probabilities)\n",
    "    ]\n",
    "\n",
    "    chi2_contingency_table(contingency_table)\n",
    "\n",
    "def chi2_contingency_table(\n",
    "        contingency_table: list[list[int, float]]\n",
    ") -> typing.Any:\n",
    "    \"\"\"\n",
    "    The formula for the chi-squared (χ²) statistic for a contingency table is given by:\n",
    "\n",
    "    χ² = Σ [(O - E)² / E]\n",
    "\n",
    "    Where:\n",
    "\n",
    "    χ² is the chi-squared statistic.\n",
    "    Σ represents the summation symbol (summing over all cells in the table).\n",
    "    O is the observed frequency in a cell.\n",
    "    E is the expected frequency in the same cell.\n",
    "    \"\"\"\n",
    "    chi2_statistic = sum([\n",
    "        (observed_frequency - expected_frequency)**2 / expected_frequency\n",
    "        for observed_frequency, expected_frequency in contingency_table\n",
    "    ])\n",
    "    # As was told, we can use scipy to get chi2 critical level\n",
    "    chi2_critical = stats.chi2.ppf(1 - SIGNIFICANCE_LEVEL, len(contingency_table) - 1)\n",
    "    print(chi2_critical)\n",
    "    # Our result is actually matches with library answer!\n",
    "    chi2, p_value = stats.chisquare([item[0] for item in contingency_table], f_exp=[item[1] for item in contingency_table])\n",
    "    print(f\"Self calculated {chi2_statistic = }\")\n",
    "    print(f\"Library calculated chi2_statistic = {chi2}\")\n",
    "    print(1 - stats.chi2.cdf(chi2, df=20))\n",
    "    print(p_value)\n"
   ]
  },
  {
   "cell_type": "code",
   "execution_count": 167,
   "metadata": {},
   "outputs": [
    {
     "name": "stdout",
     "output_type": "stream",
     "text": [
      "[0.0007716049382716049, 0.0030864197530864196, 0.007716049382716049, 0.015432098765432098, 0.02700617283950617, 0.043209876543209874, 0.06172839506172839, 0.08024691358024691, 0.09645061728395062, 0.10802469135802469, 0.11265432098765432, 0.10802469135802469, 0.09645061728395062, 0.08024691358024691, 0.06172839506172839, 0.043209876543209874, 0.02700617283950617, 0.015432098765432098, 0.007716049382716049, 0.0030864197530864196, 0.0007716049382716049]\n",
      "37.56623478662507\n",
      "Self calculated chi2_statistic = 128.60000000000002\n",
      "Library calculated chi2_statistic = 128.60000000000002\n",
      "0.0\n",
      "7.132804762530701e-18\n"
     ]
    }
   ],
   "source": [
    "is_dices_fair(22)"
   ]
  },
  {
   "cell_type": "code",
   "execution_count": 140,
   "metadata": {},
   "outputs": [
    {
     "data": {
      "text/plain": [
       "0.06016611104836589"
      ]
     },
     "execution_count": 140,
     "metadata": {},
     "output_type": "execute_result"
    }
   ],
   "source": [
    "# Degrees of freedom for the chi-squared distribution\n",
    "degrees_of_freedom = 5  # Replace with your specific degrees of freedom\n",
    "\n",
    "# Critical chi-squared value (obtained from tables or other sources)\n",
    "critical_chi2 = 10.589  # Replace with your specific critical value\n",
    "\n",
    "# Calculate the p-value using the chi-squared distribution\n",
    "p_value = 1 - stats.chi2.cdf(critical_chi2, degrees_of_freedom)\n",
    "p_value\n"
   ]
  },
  {
   "cell_type": "code",
   "execution_count": 69,
   "metadata": {},
   "outputs": [
    {
     "name": "stdout",
     "output_type": "stream",
     "text": [
      "[[176, 230], [21035, 21018]]\n",
      "12.692010988510884\n",
      "Chi2ContingencyResult(statistic=7.156900855345259, pvalue=0.007467611213568741, dof=1, expected_freq=array([[  202.82309993,   203.17690007],\n",
      "       [21008.17690007, 21044.82309993]]))\n"
     ]
    }
   ],
   "source": [
    "chi2_contingency_table([[176, 230], [21035, 21018]])"
   ]
  },
  {
   "cell_type": "code",
   "execution_count": 174,
   "metadata": {},
   "outputs": [],
   "source": [
    "import collections\n",
    "\n",
    "from mpmath import mp\n",
    "mp.dps = 100_000\n",
    "\n",
    "c = collections.Counter(str(mp.pi)[2:])"
   ]
  },
  {
   "cell_type": "code",
   "execution_count": 178,
   "metadata": {},
   "outputs": [
    {
     "name": "stdout",
     "output_type": "stream",
     "text": [
      "4.0985\n",
      "0.9048106041814732\n"
     ]
    }
   ],
   "source": [
    "print(sum([(val - 10000)**2 / 10000 for val in c.values()]))\n",
    "print(1 - stats.chi2.cdf(4.0985, df=9))"
   ]
  },
  {
   "cell_type": "code",
   "execution_count": 270,
   "metadata": {},
   "outputs": [],
   "source": [
    "\"\"\"Задача №3\"\"\"\n",
    "import matplotlib.pyplot as plt\n",
    "import numpy as np\n",
    "\n",
    "def regression(y_values, x_values) -> tuple[float, float]:\n",
    "    y_values = np.array(y_values)\n",
    "    x_values = np.array(x_values)\n",
    "    # Инициализируем параметры\n",
    "    a = 0.0\n",
    "    b = 0.0\n",
    "    learning_rate = 0.01  # Шаг обучения\n",
    "    epochs = 10000  # Количество эпох для обучения\n",
    "\n",
    "    # Производим градиентый спуск\n",
    "    for _ in range(epochs):\n",
    "        # Вычисляем предсказания\n",
    "        y_pred = a * x_values + b\n",
    "\n",
    "        # Вычисляем градиенты\n",
    "        gradient_a = (-2 / len(x_values)) * np.sum(x_values * (y_values - y_pred))\n",
    "        gradient_b = (-2 / len(x_values)) * np.sum(y_values - y_pred)\n",
    "\n",
    "        # Обновляем параметры\n",
    "        a -= learning_rate * gradient_a\n",
    "        b -= learning_rate * gradient_b\n",
    "\n",
    "    return a, b"
   ]
  },
  {
   "cell_type": "code",
   "execution_count": 289,
   "metadata": {},
   "outputs": [
    {
     "data": {
      "image/png": "[encoded data removed]",
      "text/plain": [
       "<Figure size 640x480 with 1 Axes>"
      ]
     },
     "metadata": {},
     "output_type": "display_data"
    }
   ],
   "source": [
    "def main():\n",
    "    # Генерируем точки\n",
    "    data_points = [[np.random.normal(loc=0.5*i, scale=1), i] for i in range(1, 11)]\n",
    "    y_values, x_values = zip(*data_points)\n",
    "\n",
    "    pred_a, pred_b = regression(y_values, x_values)\n",
    "    plt.scatter(x_values, y_values, label='Data Points')\n",
    "\n",
    "    # Генерируем значения x\n",
    "    x = np.linspace(0, 10, 100)  # Генерируем 100 точек от 0 до 10\n",
    "\n",
    "    # Вычисляем значение y\n",
    "    y = 0.5 * x\n",
    "\n",
    "    # Создаем график\n",
    "    plt.plot(x, y, color='blue', label=f'Истинная зависимость: y = 0.5 * x')\n",
    "\n",
    "    # Добавляем лейблы и заголовок\n",
    "    plt.xlabel('x')\n",
    "    plt.ylabel('y')\n",
    "    plt.title('Задача №3')\n",
    "\n",
    "    pred_y = pred_a * x + pred_b\n",
    "    plt.plot(\n",
    "        x, \n",
    "        pred_y, \n",
    "        color='green', \n",
    "        label=f'Предсказанная зависимость: y = {round(pred_a, 3)} * x + {round(pred_b, 3)}'\n",
    "    )\n",
    "    plt.legend()\n",
    "\n",
    "    # Показываем график\n",
    "    plt.grid(True)\n",
    "    plt.axhline(0, color='blue', linewidth=0.5)\n",
    "    plt.axvline(0, color='green', linewidth=0.5)\n",
    "    plt.show()\n",
    "\n",
    "main()"
   ]
  },
  {
   "cell_type": "code",
   "execution_count": null,
   "metadata": {},
   "outputs": [],
   "source": []
  }
 ],
 "metadata": {
  "kernelspec": {
   "display_name": "mipt-advanced-python-Sv8HSWo_-py3.11",
   "language": "python",
   "name": "python3"
  },
  "language_info": {
   "codemirror_mode": {
    "name": "ipython",
    "version": 3
   },
   "file_extension": ".py",
   "mimetype": "text/x-python",
   "name": "python",
   "nbconvert_exporter": "python",
   "pygments_lexer": "ipython3",
   "version": "3.11.3"
  },
  "orig_nbformat": 4
 },
 "nbformat": 4,
 "nbformat_minor": 2
}
