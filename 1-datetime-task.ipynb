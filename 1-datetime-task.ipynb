{
 "cells": [
  {
   "cell_type": "code",
   "execution_count": 8,
   "metadata": {},
   "outputs": [
    {
     "data": {
      "text/plain": [
       "'\\nПечатные газеты использовали свой формат дат для каждого выпуска. Для каждой газеты из списка напишите формат указанной даты для перевода в объект datetime:\\nThe Moscow Times - Wednesday, October 2, 2002\\nThe Guardian - Friday, 11.10.13\\nDaily News - Thursday, 18 August 1977\\n'"
      ]
     },
     "execution_count": 8,
     "metadata": {},
     "output_type": "execute_result"
    }
   ],
   "source": [
    "\"\"\"\n",
    "Задание №1\n",
    "\n",
    "Печатные газеты использовали свой формат дат для каждого выпуска. Для каждой газеты из списка напишите формат указанной даты для перевода в объект datetime:\n",
    "The Moscow Times - Wednesday, October 2, 2002\n",
    "The Guardian - Friday, 11.10.13\n",
    "Daily News - Thursday, 18 August 1977\n",
    "\"\"\""
   ]
  },
  {
   "cell_type": "code",
   "execution_count": 10,
   "metadata": {},
   "outputs": [],
   "source": [
    "import datetime\n",
    "import typing"
   ]
  },
  {
   "cell_type": "code",
   "execution_count": 6,
   "metadata": {},
   "outputs": [],
   "source": [
    "def moscow_times_format(datetime_object: datetime.datetime) -> str:\n",
    "    return f\"The Moscow Times - {datetime_object.strftime('%A, %B %d, %Y')}\"\n",
    "\n",
    "\n",
    "def the_guardian_format(datetime_object: datetime.datetime) -> str:\n",
    "    return f\"The Guardian - {datetime_object.strftime('%A, %d.%m.%y')}\"\n",
    "\n",
    "\n",
    "def daily_news_format(datetime_object: datetime.datetime) -> str:\n",
    "    return f\"Daily News - {datetime_object.strftime('%A, %d %B %Y')}\""
   ]
  },
  {
   "cell_type": "code",
   "execution_count": 7,
   "metadata": {},
   "outputs": [
    {
     "name": "stdout",
     "output_type": "stream",
     "text": [
      "The Moscow Times - Tuesday, October 03, 2023\n",
      "The Guardian - Tuesday, 03.10.23\n",
      "Daily News - Tuesday, 03 October 2023\n"
     ]
    }
   ],
   "source": [
    "print(moscow_times_format(datetime.datetime.now()))\n",
    "print(the_guardian_format(datetime.datetime.now()))\n",
    "print(daily_news_format(datetime.datetime.now()))"
   ]
  },
  {
   "cell_type": "code",
   "execution_count": null,
   "metadata": {},
   "outputs": [],
   "source": [
    "\"\"\"\n",
    "Задание №2\n",
    "\n",
    "Напишите функцию date_range, которая возвращает список дат за период от start_date до end_date. \n",
    "Даты должны вводиться в формате YYYY-MM-DD. \n",
    "В случае неверного формата или при start_date > end_date должен возвращаться пустой список.\n",
    "\"\"\""
   ]
  },
  {
   "cell_type": "code",
   "execution_count": 31,
   "metadata": {},
   "outputs": [],
   "source": [
    "def date_range_string(string_start_date: str, string_end_date: str) -> list[str]:\n",
    "    date_format = \"%Y-%m-%d\"\n",
    "    try:\n",
    "        start_date = datetime.datetime.strptime(string_start_date, date_format)\n",
    "        end_date = datetime.datetime.strptime(string_end_date, date_format)\n",
    "    except Exception:\n",
    "        return []\n",
    "    result = []\n",
    "    tmp_date = start_date\n",
    "    while tmp_date <= end_date:\n",
    "        result.append(tmp_date.strftime(date_format))\n",
    "        tmp_date += datetime.timedelta(days=1)\n",
    "\n",
    "    return result"
   ]
  },
  {
   "cell_type": "code",
   "execution_count": 33,
   "metadata": {},
   "outputs": [
    {
     "data": {
      "text/plain": [
       "['2022-01-01', '2022-01-02', '2022-01-03']"
      ]
     },
     "execution_count": 33,
     "metadata": {},
     "output_type": "execute_result"
    }
   ],
   "source": [
    "date_range_string('2022-01-01', '2022-01-03')"
   ]
  },
  {
   "cell_type": "code",
   "execution_count": 34,
   "metadata": {},
   "outputs": [],
   "source": [
    "\"\"\"Ребята, я не понимаю, в примере строчки, а по факту хотите datetime в ответе, поэтому...\"\"\"\n",
    "\n",
    "def date_range(start_date: datetime.datetime, end_date: datetime.datetime) -> list[str]:\n",
    "    result = []\n",
    "    tmp_date = start_date\n",
    "    while tmp_date <= end_date:\n",
    "        result.append(tmp_date)\n",
    "        tmp_date += datetime.timedelta(days=1)\n",
    "\n",
    "    return result"
   ]
  },
  {
   "cell_type": "code",
   "execution_count": 36,
   "metadata": {},
   "outputs": [
    {
     "data": {
      "text/plain": [
       "[datetime.datetime(2022, 1, 1, 0, 0),\n",
       " datetime.datetime(2022, 1, 2, 0, 0),\n",
       " datetime.datetime(2022, 1, 3, 0, 0)]"
      ]
     },
     "execution_count": 36,
     "metadata": {},
     "output_type": "execute_result"
    }
   ],
   "source": [
    "date_range(datetime.datetime(year=2022, month=1, day=1), datetime.datetime(year=2022, month=1, day=3))"
   ]
  },
  {
   "cell_type": "code",
   "execution_count": null,
   "metadata": {},
   "outputs": [],
   "source": []
  }
 ],
 "metadata": {
  "kernelspec": {
   "display_name": "Python 3",
   "language": "python",
   "name": "python3"
  },
  "language_info": {
   "codemirror_mode": {
    "name": "ipython",
    "version": 3
   },
   "file_extension": ".py",
   "mimetype": "text/x-python",
   "name": "python",
   "nbconvert_exporter": "python",
   "pygments_lexer": "ipython3",
   "version": "3.11.3"
  },
  "orig_nbformat": 4
 },
 "nbformat": 4,
 "nbformat_minor": 2
}
