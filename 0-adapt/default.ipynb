{
 "cells": [
  {
   "cell_type": "code",
   "execution_count": null,
   "metadata": {},
   "outputs": [],
   "source": [
    "def is_unusual_year(year: int) -> None:\n",
    "    if year % 4:\n",
    "        print(\"Обычный год\")\n",
    "    else:\n",
    "        print(\"Високосный год\")"
   ]
  }
 ],
 "metadata": {
  "language_info": {
   "name": "python"
  },
  "orig_nbformat": 4
 },
 "nbformat": 4,
 "nbformat_minor": 2
}
