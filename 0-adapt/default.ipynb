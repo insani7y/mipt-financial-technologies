{
 "cells": [
  {
   "cell_type": "code",
   "execution_count": null,
   "metadata": {},
   "outputs": [],
   "source": [
    "def is_unusual_year(year: int) -> None:\n",
    "    if year % 4:\n",
    "        print(\"Обычный год\")\n",
    "    else:\n",
    "        print(\"Високосный год\")"
   ]
  },
  {
   "cell_type": "code",
   "execution_count": 3,
   "metadata": {},
   "outputs": [
    {
     "data": {
      "text/plain": [
       "{15, 35, 54, 98, 119, 213}"
      ]
     },
     "execution_count": 3,
     "metadata": {},
     "output_type": "execute_result"
    }
   ],
   "source": [
    "ids = {'user1': [213, 213, 213, 15, 213], \n",
    "       'user2': [54, 54, 119, 119, 119], \n",
    "       'user3': [213, 98, 98, 35]}\n",
    "\n",
    "def geo_uniq(user_ids: dict[str, int]) -> list[int]:\n",
    "    result_set = set()\n",
    "    for geo_points in user_ids.values():\n",
    "        result_set |= set(geo_points)\n",
    "    # Dunno like functools.reduce\n",
    "    return result_set\n",
    "\n",
    "geo_uniq(ids)"
   ]
  },
  {
   "cell_type": "code",
   "execution_count": 6,
   "metadata": {},
   "outputs": [],
   "source": [
    "documents = [\n",
    " {'type': 'passport', 'number': '2207 876234', 'name': 'Василий Гупкин'},\n",
    " {'type': 'invoice', 'number': '11-2', 'name': 'Геннадий Покемонов'},\n",
    " {'type': 'insurance', 'number': '10006', 'name': 'Аристарх Павлов'}\n",
    "]\n",
    "\n",
    "def main() -> None:\n",
    "    reworked_documents = rework_documents(documents)\n",
    "\n",
    "    while True:\n",
    "        command = input(\"Введите команду: \")\n",
    "        if command == \"p\":\n",
    "            document_number = input(\"Введите номер документа: \")\n",
    "            print(f\"Владелец документа {reworked_documents.get(document_number)}\")\n",
    "        else:\n",
    "            break\n",
    "\n",
    "\n",
    "def rework_documents(documents_array: list[dict[str, str]]) -> dict[str, str]:\n",
    "\n",
    "    reworked_documents = {}\n",
    "    for doc in documents_array:\n",
    "        if doc.get(\"number\"):\n",
    "            reworked_documents[doc[\"number\"]] = doc.get(\"name\")\n",
    "\n",
    "    return reworked_documents\n",
    "\n",
    "\n",
    "main()\n",
    "    "
   ]
  },
  {
   "cell_type": "code",
   "execution_count": null,
   "metadata": {},
   "outputs": [],
   "source": [
    "\n"
   ]
  }
 ],
 "metadata": {
  "kernelspec": {
   "display_name": "Python 3",
   "language": "python",
   "name": "python3"
  },
  "language_info": {
   "codemirror_mode": {
    "name": "ipython",
    "version": 3
   },
   "file_extension": ".py",
   "mimetype": "text/x-python",
   "name": "python",
   "nbconvert_exporter": "python",
   "pygments_lexer": "ipython3",
   "version": "3.11.3"
  },
  "orig_nbformat": 4
 },
 "nbformat": 4,
 "nbformat_minor": 2
}
