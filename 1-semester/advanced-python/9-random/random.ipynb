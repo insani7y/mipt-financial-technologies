{
 "cells": [
  {
   "cell_type": "code",
   "execution_count": 3,
   "metadata": {},
   "outputs": [
    {
     "name": "stdout",
     "output_type": "stream",
     "text": [
      "Palyer losing -0.2 rubles per game\n"
     ]
    }
   ],
   "source": [
    "import random\n",
    "\n",
    "def simulate_lottery():\n",
    "    total_win = 0\n",
    "\n",
    "    for result in range(1000):\n",
    "        if result == 777:\n",
    "            total_win += 200\n",
    "        elif result == 999:\n",
    "            total_win += 100\n",
    "        elif result == 555:\n",
    "            total_win += 50\n",
    "        elif result == 333:\n",
    "            total_win += 15\n",
    "        elif result == 111:\n",
    "            total_win += 10\n",
    "        elif result % 100 == 77:  # *77\n",
    "            total_win += 5\n",
    "        elif result % 10 == 7:  # **7\n",
    "            total_win += 3\n",
    "        elif result % 100 == 0:  # *00\n",
    "            total_win += 2\n",
    "        elif result % 10 == 0:  # **0\n",
    "            total_win += 1\n",
    "\n",
    "\n",
    "    # Average gain/loss per game\n",
    "    avg_gain_loss_per_game = total_win / 1000 - 1\n",
    "\n",
    "    return avg_gain_loss_per_game\n",
    "\n",
    "print(f\"Palyer losing {round(simulate_lottery(), 3)} rubles per game\")"
   ]
  },
  {
   "cell_type": "code",
   "execution_count": null,
   "metadata": {},
   "outputs": [],
   "source": []
  }
 ],
 "metadata": {
  "kernelspec": {
   "display_name": "mipt-advanced-python-UkQ5wbis-py3.11",
   "language": "python",
   "name": "python3"
  },
  "language_info": {
   "codemirror_mode": {
    "name": "ipython",
    "version": 3
   },
   "file_extension": ".py",
   "mimetype": "text/x-python",
   "name": "python",
   "nbconvert_exporter": "python",
   "pygments_lexer": "ipython3",
   "version": "3.11.6"
  },
  "orig_nbformat": 4
 },
 "nbformat": 4,
 "nbformat_minor": 2
}
