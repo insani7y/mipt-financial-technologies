{
 "cells": [
  {
   "cell_type": "code",
   "execution_count": null,
   "metadata": {},
   "outputs": [],
   "source": [
    "import random\n",
    "\n",
    "def simulate_lottery():\n",
    "    total_win = 0\n",
    "\n",
    "    for result in range(1000):\n",
    "        if result == 777:\n",
    "            total_win += 200\n",
    "        elif result == 999:\n",
    "            total_win += 100\n",
    "        elif result == 555:\n",
    "            total_win += 50\n",
    "        elif result == 333:\n",
    "            total_win += 15\n",
    "        elif result == 111:\n",
    "            total_win += 10\n",
    "        elif result % 100 == 77:  # *77\n",
    "            total_win += 5\n",
    "        elif result % 10 == 7:  # **7\n",
    "            total_win += 3\n",
    "        elif result % 100 == 0:  # *00\n",
    "            total_win += 2\n",
    "        elif result % 10 == 0:  # **0\n",
    "            total_win += 1\n",
    "\n",
    "\n",
    "    # Average gain/loss per game\n",
    "    avg_gain_loss_per_game = total_win / 1000 - 1\n",
    "\n",
    "    return avg_gain_loss_per_game\n",
    "\n",
    "print(\"Palyer losing {simulate_lottery()} rubles per game\")"
   ]
  }
 ],
 "metadata": {
  "language_info": {
   "name": "python"
  },
  "orig_nbformat": 4
 },
 "nbformat": 4,
 "nbformat_minor": 2
}
