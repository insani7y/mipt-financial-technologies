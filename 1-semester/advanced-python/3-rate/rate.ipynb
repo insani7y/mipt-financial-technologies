{
 "cells": [
  {
   "cell_type": "code",
   "execution_count": 72,
   "metadata": {},
   "outputs": [],
   "source": [
    "# Don't need a class for such a simple task\n",
    "import typing\n",
    "import requests\n",
    "\n",
    "\n",
    "FILE_LINK: typing.Final = \"https://www.cbr-xml-daily.ru/daily_json.js\"\n",
    "\n",
    "def get_data() -> dict[typing.Any, typing.Any]:\n",
    "    return requests.get(FILE_LINK).json()\n",
    "\n",
    "def print_currency_data(\n",
    "    currency_data: dict[typing.Any, typing.Any], \n",
    "    diff: bool = False\n",
    "):\n",
    "    sorted_currencies = list(\n",
    "        sorted(\n",
    "            currency_data[\"Valute\"].items(), \n",
    "            key=lambda currency_data: currency_data[1][\"Value\"]\n",
    "        )\n",
    "    )\n",
    "    max_value_currency: typing.Final = sorted_currencies[-1]\n",
    "    if diff:\n",
    "        print((\n",
    "            max_value_currency[1][\"Previous\"] - \n",
    "            max_value_currency[1][\"Value\"])\n",
    "        )\n",
    "    else:\n",
    "        print(max_value_currency[1][\"Name\"])\n"
   ]
  },
  {
   "cell_type": "code",
   "execution_count": 73,
   "metadata": {},
   "outputs": [
    {
     "name": "stdout",
     "output_type": "stream",
     "text": [
      "-0.28350000000000364\n"
     ]
    }
   ],
   "source": [
    "print_currency_data(get_data(), True)"
   ]
  },
  {
   "cell_type": "code",
   "execution_count": 74,
   "metadata": {},
   "outputs": [
    {
     "name": "stdout",
     "output_type": "stream",
     "text": [
      "СДР (специальные права заимствования)\n"
     ]
    }
   ],
   "source": [
    "print_currency_data(get_data())"
   ]
  }
 ],
 "metadata": {
  "kernelspec": {
   "display_name": "Python 3",
   "language": "python",
   "name": "python3"
  },
  "language_info": {
   "codemirror_mode": {
    "name": "ipython",
    "version": 3
   },
   "file_extension": ".py",
   "mimetype": "text/x-python",
   "name": "python",
   "nbconvert_exporter": "python",
   "pygments_lexer": "ipython3",
   "version": "3.11.3"
  },
  "orig_nbformat": 4
 },
 "nbformat": 4,
 "nbformat_minor": 2
}
