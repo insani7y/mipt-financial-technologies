{
 "cells": [
  {
   "cell_type": "code",
   "execution_count": null,
   "metadata": {},
   "outputs": [],
   "source": [
    "\"\"\"\n",
    "Напишите функцию, которая принимает на вход строку и проверяет, является ли она валидным транспортным номером (1 буква, 3 цифры, 2 буквы, 2–3 цифры). Обратите внимание, что не все буквы кириллического алфавита используются в транспортных номерах.\n",
    "\"\"\""
   ]
  },
  {
   "cell_type": "code",
   "execution_count": 7,
   "metadata": {},
   "outputs": [
    {
     "name": "stdout",
     "output_type": "stream",
     "text": [
      "('А123ВС', '45')\n",
      "('А222ВС', '961')\n",
      "(None, None)\n"
     ]
    }
   ],
   "source": [
    "import re\n",
    "\n",
    "def is_valid_transport_number(input_string):\n",
    "    # Регулярное выражение для проверки валидности транспортного номера\n",
    "    pattern = r'^([АВЕКМНОРСТУХ]{1}\\d{3}[АВЕКМНОРСТУХ]{2})(\\d{2,3})$'\n",
    "    \n",
    "    # Ищем соответствие входной строки шаблону\n",
    "    match = re.match(pattern, input_string, re.IGNORECASE)\n",
    "    \n",
    "    if match:\n",
    "        # Извлекаем номер и регион из найденных групп\n",
    "        number = match.group(1)\n",
    "        region = match.group(2)\n",
    "        return number, region\n",
    "    else:\n",
    "        return None, None  # Возвращаем None, если номер не валиден\n",
    "    \n",
    "print(is_valid_transport_number(\"А123ВС45\"))\n",
    "print(is_valid_transport_number(\"А222ВС961\"))\n",
    "print(is_valid_transport_number(\"АБ22ВВ193\"))"
   ]
  },
  {
   "cell_type": "code",
   "execution_count": null,
   "metadata": {},
   "outputs": [],
   "source": [
    "\"\"\"\n",
    "Напишите функцию, которая будет удалять все последовательные повторы слов из заданной строки при помощи регулярных выражений.\n",
    "\"\"\""
   ]
  },
  {
   "cell_type": "code",
   "execution_count": 13,
   "metadata": {},
   "outputs": [
    {
     "name": "stdout",
     "output_type": "stream",
     "text": [
      "Напишите функцию, которая будет удалять все последовательные повторы слов из заданной строки при помощи регулярных выражений\n"
     ]
    }
   ],
   "source": [
    "def remove_all_duplicates(input_string):\n",
    "    # Ищем все повторяющиеся слова и удаляем их\n",
    "    pattern = r'\\b(\\w+)\\b(?=.*\\b\\1\\b)'\n",
    "    result = re.sub(pattern, '', input_string)\n",
    "    result = re.sub(r'\\s+', ' ', result)\n",
    "    return result\n",
    "\n",
    "# Пример использования\n",
    "input_string = \"Напишите функцию функцию функцию, которая будет будет будет будет удалять все все все все последовательные повторы слов из из из из заданной строки строки при помощи регулярных выражений\"\n",
    "result = remove_all_duplicates(input_string)\n",
    "print(result)"
   ]
  },
  {
   "cell_type": "code",
   "execution_count": null,
   "metadata": {},
   "outputs": [],
   "source": []
  }
 ],
 "metadata": {
  "kernelspec": {
   "display_name": "mipt-advanced-python-Sv8HSWo_-py3.11",
   "language": "python",
   "name": "python3"
  },
  "language_info": {
   "codemirror_mode": {
    "name": "ipython",
    "version": 3
   },
   "file_extension": ".py",
   "mimetype": "text/x-python",
   "name": "python",
   "nbconvert_exporter": "python",
   "pygments_lexer": "ipython3",
   "version": "3.11.3"
  },
  "orig_nbformat": 4
 },
 "nbformat": 4,
 "nbformat_minor": 2
}
